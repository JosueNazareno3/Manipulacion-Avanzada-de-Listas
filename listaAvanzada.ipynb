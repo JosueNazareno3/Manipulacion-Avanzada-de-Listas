{
 "cells": [
  {
   "cell_type": "markdown",
   "id": "c37b8b3a",
   "metadata": {},
   "source": [
    "**Lugares del Mundo por Visitar**\n",
    "\n",
    "·         Crea una lista llamada lugares que contenga al menos cinco lugares del mundo que te gustaría visitar. Asegúrate de que la lista no esté en orden alfabético.\n",
    "\n",
    "·         Imprime la lista en su orden original.\n",
    "\n",
    "·         Usa sorted() para imprimir la lista en orden alfabético sin modificar la lista original.\n",
    "\n",
    "·         Imprime la lista nuevamente para demostrar que conserva su orden original.\n",
    "\n",
    "·         Usa sorted() para imprimir la lista en orden alfabético inverso sin modificar la lista original.\n",
    "\n",
    "·         Imprime la lista nuevamente para demostrar que conserva su orden original.\n",
    "\n",
    "·         Usa reverse() para invertir el orden de la lista. Imprime la lista para mostrar el cambio.\n",
    "\n",
    "·         Usa reverse() nuevamente para restaurar el orden original de la lista. Imprime la lista para mostrar el cambio.\n",
    "\n",
    "·         Usa sort() para ordenar la lista en orden alfabético permanente. Imprime la lista para mostrar el cambio.\n",
    "\n",
    "·         Usa sort() para ordenar la lista en orden alfabético inverso permanente. Imprime la lista para mostrar el cambio."
   ]
  },
  {
   "cell_type": "code",
   "execution_count": 1,
   "id": "70824930",
   "metadata": {},
   "outputs": [
    {
     "name": "stdout",
     "output_type": "stream",
     "text": [
      "Lista original: ['París', 'Tokio', 'Buenos Aires', 'Nueva York', 'Sídney']\n",
      "Lista en orden alfabético: ['Buenos Aires', 'Nueva York', 'París', 'Sídney', 'Tokio']\n",
      "Lista después de sorted: ['París', 'Tokio', 'Buenos Aires', 'Nueva York', 'Sídney']\n",
      "Lista en orden alfabético inverso: ['Tokio', 'Sídney', 'París', 'Nueva York', 'Buenos Aires']\n",
      "Lista después de sorted con reverse: ['París', 'Tokio', 'Buenos Aires', 'Nueva York', 'Sídney']\n",
      "Lista invertida: ['Sídney', 'Nueva York', 'Buenos Aires', 'Tokio', 'París']\n",
      "Lista restaurada a su orden original: ['París', 'Tokio', 'Buenos Aires', 'Nueva York', 'Sídney']\n",
      "Lista ordenada permanentemente: ['Buenos Aires', 'Nueva York', 'París', 'Sídney', 'Tokio']\n",
      "Lista ordenada en orden inverso permanentemente: ['Tokio', 'Sídney', 'París', 'Nueva York', 'Buenos Aires']\n"
     ]
    }
   ],
   "source": [
    "# Crea una lista llamada 'lugares' con al menos 5 lugares que te gustaría visitar\n",
    "lugares = ['París', 'Tokio', 'Buenos Aires', 'Nueva York', 'Sídney']\n",
    "\n",
    "# Imprime la lista en su orden original\n",
    "print(\"Lista original:\", lugares)\n",
    "\n",
    "# Usa sorted() para imprimir la lista en orden alfabético sin modificar la lista original\n",
    "print(\"Lista en orden alfabético:\", sorted(lugares))\n",
    "\n",
    "# Imprime la lista para demostrar que no ha cambiado\n",
    "print(\"Lista después de sorted:\", lugares)\n",
    "\n",
    "# Usa sorted() para imprimir la lista en orden alfabético inverso sin modificar la lista original\n",
    "print(\"Lista en orden alfabético inverso:\", sorted(lugares, reverse=True))\n",
    "\n",
    "# Imprime la lista nuevamente para demostrar que conserva su orden original\n",
    "print(\"Lista después de sorted con reverse:\", lugares)\n",
    "\n",
    "# Usa reverse() para invertir el orden de la lista\n",
    "lugares.reverse()\n",
    "print(\"Lista invertida:\", lugares)\n",
    "\n",
    "# Usa reverse() nuevamente para restaurar el orden original de la lista\n",
    "lugares.reverse()\n",
    "print(\"Lista restaurada a su orden original:\", lugares)\n",
    "\n",
    "# Usa sort() para ordenar la lista en orden alfabético permanente\n",
    "lugares.sort()\n",
    "print(\"Lista ordenada permanentemente:\", lugares)\n",
    "\n",
    "# Usa sort() para ordenar la lista en orden alfabético inverso permanente\n",
    "lugares.sort(reverse=True)\n",
    "print(\"Lista ordenada en orden inverso permanentemente:\", lugares)\n"
   ]
  },
  {
   "cell_type": "markdown",
   "id": "14deec3a",
   "metadata": {},
   "source": [
    "**Conteo de Invitados a Cenar**\n",
    "\n",
    "·         Retoma uno de los programas de los ejercicios anteriores\n",
    "\n",
    "·         Usa len() para imprimir un mensaje que indique el número de personas que estás invitando a cenar."
   ]
  },
  {
   "cell_type": "code",
   "execution_count": 2,
   "id": "42a56129",
   "metadata": {},
   "outputs": [
    {
     "name": "stdout",
     "output_type": "stream",
     "text": [
      "Número de personas invitadas a cenar: 5\n"
     ]
    }
   ],
   "source": [
    "# Lista de invitados original\n",
    "invitados = [\"Zahara\", \"Lior\", \"Nerea\", \"Axel\", \"Vega\"]\n",
    "\n",
    "# Usando len() para contar el número de personas\n",
    "numero_invitados = len(invitados)\n",
    "\n",
    "# Imprimir el número de invitados\n",
    "print(f\"Número de personas invitadas a cenar: {numero_invitados}\")"
   ]
  },
  {
   "cell_type": "markdown",
   "id": "e44b4247",
   "metadata": {},
   "source": [
    "**Práctica con Todas las Funciones de Listas**\n",
    "\n",
    "·         Elige una categoría (montañas, ríos, países, ciudades, idiomas, etc.) y crea una lista llamada elementos que contenga al menos cinco ítems relacionados.\n",
    "\n",
    "·         Escribe un programa que utilice todas las funciones de listas vistas en el capítulo al menos una vez. Estas funciones deben incluir:\n",
    "\n",
    "* append()\n",
    "* insert()\n",
    "* del\n",
    "* pop()\n",
    "* remove()\n",
    "* sorted()\n",
    "* sort()\n",
    "* reverse()\n",
    "* len()"
   ]
  },
  {
   "cell_type": "code",
   "execution_count": 3,
   "id": "4836998c",
   "metadata": {},
   "outputs": [
    {
     "name": "stdout",
     "output_type": "stream",
     "text": [
      "Después de append(): ['manzana', 'banana', 'naranja', 'pera', 'kiwi', 'mango']\n",
      "Después de insert(): ['manzana', 'banana', 'uva', 'naranja', 'pera', 'kiwi', 'mango']\n",
      "Después de del: ['manzana', 'uva', 'naranja', 'pera', 'kiwi', 'mango']\n",
      "Después de pop(): ['manzana', 'uva', 'naranja', 'pera', 'kiwi']\n",
      "Elemento eliminado con pop(): mango\n",
      "Después de remove(): ['manzana', 'uva', 'naranja', 'kiwi']\n",
      "Lista ordenada con sorted(): ['kiwi', 'manzana', 'naranja', 'uva']\n",
      "Lista ordenada permanentemente con sort(): ['kiwi', 'manzana', 'naranja', 'uva']\n",
      "Lista invertida con reverse(): ['uva', 'naranja', 'manzana', 'kiwi']\n",
      "Número de frutas en la lista: 4\n"
     ]
    }
   ],
   "source": [
    "# Elige una categoría, por ejemplo, \"frutas\"\n",
    "frutas = ['manzana', 'banana', 'naranja', 'pera', 'kiwi']\n",
    "\n",
    "# 1. append() - Agrega un ítem al final de la lista\n",
    "frutas.append('mango')\n",
    "print(\"Después de append():\", frutas)\n",
    "\n",
    "# 2. insert() - Inserta un ítem en una posición específica\n",
    "frutas.insert(2, 'uva')  # Inserta 'uva' en la tercera posición\n",
    "print(\"Después de insert():\", frutas)\n",
    "\n",
    "# 3. del - Elimina un ítem en una posición específica\n",
    "del frutas[1]  # Elimina el ítem en la segunda posición\n",
    "print(\"Después de del:\", frutas)\n",
    "\n",
    "# 4. pop() - Elimina y retorna un ítem en la última posición\n",
    "fruta_pop = frutas.pop()  # Elimina y retorna el último ítem\n",
    "print(\"Después de pop():\", frutas)\n",
    "print(f\"Elemento eliminado con pop(): {fruta_pop}\")\n",
    "\n",
    "# 5. remove() - Elimina el primer ítem que coincida con el valor\n",
    "frutas.remove('pera')\n",
    "print(\"Después de remove():\", frutas)\n",
    "\n",
    "# 6. sorted() - Retorna una nueva lista ordenada\n",
    "frutas_ordenadas = sorted(frutas)\n",
    "print(\"Lista ordenada con sorted():\", frutas_ordenadas)\n",
    "\n",
    "# 7. sort() - Ordena la lista original permanentemente\n",
    "frutas.sort()\n",
    "print(\"Lista ordenada permanentemente con sort():\", frutas)\n",
    "\n",
    "# 8. reverse() - Invierte el orden de los elementos\n",
    "frutas.reverse()\n",
    "print(\"Lista invertida con reverse():\", frutas)\n",
    "\n",
    "# 9. len() - Devuelve el número de elementos en la lista\n",
    "numero_frutas = len(frutas)\n",
    "print(f\"Número de frutas en la lista: {numero_frutas}\")"
   ]
  }
 ],
 "metadata": {
  "kernelspec": {
   "display_name": ".venv",
   "language": "python",
   "name": "python3"
  },
  "language_info": {
   "codemirror_mode": {
    "name": "ipython",
    "version": 3
   },
   "file_extension": ".py",
   "mimetype": "text/x-python",
   "name": "python",
   "nbconvert_exporter": "python",
   "pygments_lexer": "ipython3",
   "version": "3.12.10"
  }
 },
 "nbformat": 4,
 "nbformat_minor": 5
}
